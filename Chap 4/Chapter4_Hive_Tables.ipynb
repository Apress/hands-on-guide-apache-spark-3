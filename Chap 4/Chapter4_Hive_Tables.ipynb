{
 "cells": [
  {
   "cell_type": "code",
   "execution_count": 4,
   "id": "717b079a",
   "metadata": {},
   "outputs": [
    {
     "data": {
      "text/plain": [
       "import java.io.File\n",
       "import org.apache.spark.sql.{Row, SaveMode, SparkSession}\n"
      ]
     },
     "execution_count": 4,
     "metadata": {},
     "output_type": "execute_result"
    }
   ],
   "source": [
    "import java.io.File\n",
    "\n",
    "import org.apache.spark.sql.{Row, SaveMode, SparkSession}"
   ]
  },
  {
   "cell_type": "code",
   "execution_count": 5,
   "id": "32effa80",
   "metadata": {},
   "outputs": [
    {
     "data": {
      "text/plain": [
       "defined class Record\n",
       "warehouseLocation: String = hdfs://localhost:9745/user/hive/warehouse\n",
       "spark: org.apache.spark.sql.SparkSession = org.apache.spark.sql.SparkSession@7a2e7185\n"
      ]
     },
     "execution_count": 5,
     "metadata": {},
     "output_type": "execute_result"
    }
   ],
   "source": [
    "val warehouseLocation = \"hdfs://localhost:9745/user/hive/warehouse\"\n",
    "\n",
    "val spark = SparkSession\n",
    "  .builder()\n",
    "  .appName(\"Spark Hive Example\")\n",
    "  .config(\"spark.sql.warehouse.dir\", warehouseLocation)\n",
    "  .enableHiveSupport()\n",
    "  .getOrCreate()"
   ]
  },
  {
   "cell_type": "code",
   "execution_count": 6,
   "id": "a6188cf7",
   "metadata": {},
   "outputs": [
    {
     "data": {
      "text/plain": [
       "import spark.implicits._\n",
       "import spark.sql\n"
      ]
     },
     "execution_count": 6,
     "metadata": {},
     "output_type": "execute_result"
    }
   ],
   "source": [
    "import spark.implicits._\n",
    "import spark.sql"
   ]
  },
  {
   "cell_type": "code",
   "execution_count": 11,
   "id": "32853377",
   "metadata": {},
   "outputs": [
    {
     "name": "stdout",
     "output_type": "stream",
     "text": [
      "+---------+------------+-------+-----------+\n",
      "|Name     |Surname     |Century|YearOfBirth|\n",
      "+---------+------------+-------+-----------+\n",
      "|Gonzalo  |de Berceo   |XIII   |1196       |\n",
      "|Juan     |Ruiz        |XIV    |1283       |\n",
      "|Fernando |de Rojas    |XV     |1465       |\n",
      "|Garcilaso|de la Vega  |XVI    |1539       |\n",
      "|Miguel   |de Cervantes|XVI    |1547       |\n",
      "+---------+------------+-------+-----------+\n",
      "only showing top 5 rows\n",
      "\n"
     ]
    },
    {
     "data": {
      "text/plain": [
       "path: String = file:///tmp/Spanish_Writers_by_Century.csv\n",
       "df: org.apache.spark.sql.DataFrame = [Name: string, Surname: string ... 2 more fields]\n"
      ]
     },
     "execution_count": 11,
     "metadata": {},
     "output_type": "execute_result"
    }
   ],
   "source": [
    "val path = \"file:///tmp/Spanish_Writers_by_Century.csv\"\n",
    "\n",
    "val df = spark.read.option(\"header\", \"true\").csv(path)\n",
    "df.show(5,false)"
   ]
  },
  {
   "cell_type": "code",
   "execution_count": null,
   "id": "8247e73a",
   "metadata": {},
   "outputs": [],
   "source": [
    "df.write.mode(\"overwrite\").saveAsTable(\"spaniards.writersByCentury\")"
   ]
  },
  {
   "cell_type": "code",
   "execution_count": null,
   "id": "98067088",
   "metadata": {},
   "outputs": [],
   "source": []
  }
 ],
 "metadata": {
  "kernelspec": {
   "display_name": "spylon-kernel",
   "language": "scala",
   "name": "spylon-kernel"
  },
  "language_info": {
   "codemirror_mode": "text/x-scala",
   "file_extension": ".scala",
   "help_links": [
    {
     "text": "MetaKernel Magics",
     "url": "https://metakernel.readthedocs.io/en/latest/source/README.html"
    }
   ],
   "mimetype": "text/x-scala",
   "name": "scala",
   "pygments_lexer": "scala",
   "version": "0.4.1"
  }
 },
 "nbformat": 4,
 "nbformat_minor": 5
}
